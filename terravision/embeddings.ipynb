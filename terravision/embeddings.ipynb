{
 "cells": [
  {
   "cell_type": "code",
   "execution_count": 3,
   "metadata": {},
   "outputs": [],
   "source": [
    "import requests\n",
    "import pandas as pd\n",
    "import numpy as np\n",
    "import json"
   ]
  },
  {
   "cell_type": "code",
   "execution_count": 6,
   "metadata": {},
   "outputs": [],
   "source": [
    "embedding_api = \"http://localhost:11434/api/embeddings\"\n",
    "\n",
    "\n",
    "def get_embedding(text):\n",
    "    data = {\"model\": \"nomic-embed-text\", \"prompt\": text}\n",
    "\n",
    "    response = requests.post(embedding_api, json=data)\n",
    "    return np.array(response.json()['embedding'])"
   ]
  },
  {
   "cell_type": "code",
   "execution_count": 7,
   "metadata": {},
   "outputs": [],
   "source": [
    "names = []\n",
    "\n",
    "with open('./terraformToAws.json') as file:\n",
    "    data1 = json.load(file)\n",
    "    names.extend(data1.keys())\n",
    "\n",
    "with open('./resourceIdentifiers.json') as file:\n",
    "    data2 = json.load(file)\n",
    "    names.extend(data2.keys())"
   ]
  },
  {
   "cell_type": "code",
   "execution_count": 8,
   "metadata": {},
   "outputs": [],
   "source": [
    "embeddings = { name: get_embedding(name) for name in names}"
   ]
  },
  {
   "cell_type": "code",
   "execution_count": 12,
   "metadata": {},
   "outputs": [],
   "source": [
    "# create a dataframe\n",
    "df = pd.DataFrame(embeddings)"
   ]
  },
  {
   "cell_type": "code",
   "execution_count": 13,
   "metadata": {},
   "outputs": [],
   "source": [
    "def cosine_similarify(embedding1, embedding2):\n",
    "    return np.dot(embedding1, embedding2) / (np.linalg.norm(embedding1) * np.linalg.norm(embedding2))"
   ]
  },
  {
   "cell_type": "code",
   "execution_count": 14,
   "metadata": {},
   "outputs": [],
   "source": [
    "df2 = df.filter(like='::')\n",
    "\n",
    "def most_similar_words(word, n=5):\n",
    "    similarities = df2.apply(lambda x: cosine_similarify(df[word], x), axis=0)\n",
    "    return similarities.sort_values(ascending=False).head(n)"
   ]
  },
  {
   "cell_type": "code",
   "execution_count": 15,
   "metadata": {},
   "outputs": [],
   "source": [
    "most_similar = pd.Series({name: most_similar_words(name, n=1).index[0] for name in data1})"
   ]
  },
  {
   "cell_type": "code",
   "execution_count": 17,
   "metadata": {},
   "outputs": [
    {
     "data": {
      "text/plain": [
       "aws_eks_node_group                                         aws::eks::nodegroup\n",
       "aws_eks_identity_provider_config              aws::eks::identityproviderconfig\n",
       "aws_eks_cluster                                              aws::eks::cluster\n",
       "aws_eks_access_policy_association                   aws::organizations::policy\n",
       "aws_eks_access_entry                                           aws::eks::addon\n",
       "                                                            ...               \n",
       "aws_iam_access_key                                         aws::iam::accesskey\n",
       "aws_iam_group_membership                                       aws::iam::group\n",
       "aws_iam_security_token_service_preferences                    aws::iam::policy\n",
       "aws_iam_saml_provider                                   aws::iam::samlprovider\n",
       "aws_iam_user                                                    aws::iam::user\n",
       "Length: 1246, dtype: object"
      ]
     },
     "execution_count": 17,
     "metadata": {},
     "output_type": "execute_result"
    }
   ],
   "source": [
    "most_similar"
   ]
  },
  {
   "cell_type": "code",
   "execution_count": null,
   "metadata": {},
   "outputs": [],
   "source": []
  }
 ],
 "metadata": {
  "kernelspec": {
   "display_name": "Python 3",
   "language": "python",
   "name": "python3"
  },
  "language_info": {
   "codemirror_mode": {
    "name": "ipython",
    "version": 3
   },
   "file_extension": ".py",
   "mimetype": "text/x-python",
   "name": "python",
   "nbconvert_exporter": "python",
   "pygments_lexer": "ipython3",
   "version": "3.9.13"
  }
 },
 "nbformat": 4,
 "nbformat_minor": 2
}
